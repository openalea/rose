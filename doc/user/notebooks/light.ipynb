{
 "cells": [
  {
   "cell_type": "markdown",
   "id": "1fe682c1-afa0-47be-8979-930e969a37c3",
   "metadata": {},
   "source": [
    "# Light interception"
   ]
  },
  {
   "cell_type": "code",
   "execution_count": null,
   "id": "d7cef124-20d9-4c3e-abff-8c2c305c76e8",
   "metadata": {},
   "outputs": [],
   "source": [
    "from utils import *\n",
    "from oawidgets.plantgl import PlantGL\n",
    "from openalea.plantgl.all import *\n",
    "from openalea.rose.data import manips, experiments\n",
    "from ipywidgets import interactive, Dropdown, Checkbox\n",
    "\n",
    "from openalea.spice.simulator import *\n",
    "from openalea.spice import Scene as spScene\n",
    "from openalea.spice.common.convert import pgl_to_spice, spice_add_pgl"
   ]
  },
  {
   "cell_type": "code",
   "execution_count": null,
   "id": "d9fd7ff3-1ce0-4e83-afdf-b0a1fa769d61",
   "metadata": {},
   "outputs": [],
   "source": [
    "def select_experiment(manip_name=\"Manip1_C1_PARfort\", stage=\"P1\", fill=True):\n",
    "    pgl_scene = experiment_named(manip_name, stage, fill)\n",
    "    env = environment()\n",
    "    simulator = Simulator()\n",
    "    simulator.configuration.NB_PHOTONS = int(1e7)\n",
    "    simulator.configuration.SCALE_FACTOR = 10\n",
    "    simulator.configuration.MAXIMUM_DEPTH = 50\n",
    "    simulator.configuration.T_MIN = 0.01\n",
    "    simulator.configuration.BACKFACE_CULLING = False\n",
    "    simulator.configuration.KEEP_ALL = False\n",
    "    \n",
    "\n",
    "    # setup environmentphmap\n",
    "    sp_scene = pgl_to_spice(pgl_scene, sensors=True, setup=False)\n",
    "    sp_scene = spice_add_pgl(sp_scene, env, sensors=False, setup=True)\n",
    "    for sh in pgl_scene:\n",
    "        simulator.addFaceSensor(sh)\n",
    "    \n",
    "    simulator.scene_pgl = pgl_scene + env\n",
    "    simulator.scene = sp_scene\n",
    "\n",
    "    # S2 series of lamps\n",
    "    simulator.addPointLight(Vec3(730, 1670, 2100), 400)\n",
    "    simulator.addPointLight(Vec3(730, 176, 2100), 400)\n",
    "    simulator.addPointLight(Vec3(1670, 176, 2100), 400)\n",
    "    simulator.addPointLight(Vec3(1670, 1660, 2100), 400)\n",
    "    \n",
    "    # run\n",
    "    res = simulator.run()\n",
    "    sc = simulator.visualizePhotons(mode=\"oawidgets\")\n",
    "    display(sc)\n",
    "    return simulator\n",
    "\n",
    "opts = list(map(str, list(range(len(get_all_expe())))))\n",
    "manips_opts = sorted(list(map(str, list(manips()))))\n",
    "stage_opts = [\"P1\",\"P2\",\"P3\"]"
   ]
  },
  {
   "cell_type": "code",
   "execution_count": null,
   "id": "9eb6d798-e9da-49de-9031-16d6d6036fdd",
   "metadata": {},
   "outputs": [],
   "source": [
    "manip_name=Dropdown(options=manips_opts, value=\"Manip1_C1_PARfort\")\n",
    "stage=Dropdown(options=stage_opts, value=\"P1\")\n",
    "\n",
    "def update_stages(*args):\n",
    "    options = experiments(manip_name.value)\n",
    "    options = [o.name for o in options] \n",
    "    stage.options = sorted(options)\n",
    "\n",
    "manip_name.observe(update_stages, \"value\")\n",
    "fill=Checkbox(value=False)"
   ]
  },
  {
   "cell_type": "code",
   "execution_count": null,
   "id": "1b7b2dc2-b4d3-4118-9dae-4acc7dec2f2d",
   "metadata": {},
   "outputs": [],
   "source": [
    "w = interactive(select_experiment, {'manual': True}, manip_name=manip_name, stage=stage, fill=fill)\n",
    "w"
   ]
  },
  {
   "cell_type": "code",
   "execution_count": null,
   "id": "1d0e0a39-6697-456f-acb6-694190235f37",
   "metadata": {},
   "outputs": [],
   "source": [
    "sim = w.result"
   ]
  }
 ],
 "metadata": {
  "kernelspec": {
   "display_name": "Python 3 (ipykernel)",
   "language": "python",
   "name": "python3"
  },
  "language_info": {
   "codemirror_mode": {
    "name": "ipython",
    "version": 3
   },
   "file_extension": ".py",
   "mimetype": "text/x-python",
   "name": "python",
   "nbconvert_exporter": "python",
   "pygments_lexer": "ipython3",
   "version": "3.12.3"
  },
  "widgets": {
   "application/vnd.jupyter.widget-state+json": {
    "state": {},
    "version_major": 2,
    "version_minor": 0
   }
  }
 },
 "nbformat": 4,
 "nbformat_minor": 5
}
